{
 "cells": [
  {
   "cell_type": "code",
   "execution_count": null,
   "id": "8a4b3511-9392-4741-9674-e03193f16322",
   "metadata": {},
   "outputs": [],
   "source": [
    "import os\n",
    "import shutil\n",
    "from sklearn.model_selection import train_test_split\n",
    "\n",
    "def split_dataset(dataset_dir, output_dir, train_ratio=0.7, val_ratio=0.15, test_ratio=0.15):\n",
    "    if not os.path.exists(output_dir):\n",
    "        os.makedirs(output_dir)\n",
    "        \n",
    "    for split in ['train', 'val', 'test']:\n",
    "        split_dir = os.path.join(output_dir, split)\n",
    "        if not os.path.exists(split_dir):\n",
    "            os.makedirs(split_dir)\n",
    "\n",
    "    classes = [d for d in os.listdir(dataset_dir) if os.path.isdir(os.path.join(dataset_dir, d))]\n",
    "    for cls in classes:\n",
    "        class_dir = os.path.join(dataset_dir, cls)\n",
    "        images = [f for f in os.listdir(class_dir) if os.path.isfile(os.path.join(class_dir, f))]\n",
    "        \n",
    "        train_files, test_files = train_test_split(images, test_size=(1 - train_ratio))\n",
    "        val_files, test_files = train_test_split(test_files, test_size=test_ratio/(test_ratio + val_ratio))\n",
    "        \n",
    "        for split, split_files in zip(['train', 'val', 'test'], [train_files, val_files, test_files]):\n",
    "            split_class_dir = os.path.join(output_dir, split, cls)\n",
    "            if not os.path.exists(split_class_dir):\n",
    "                os.makedirs(split_class_dir)\n",
    "            for f in split_files:\n",
    "                shutil.copy2(os.path.join(class_dir, f), os.path.join(split_class_dir, f))\n",
    "\n",
    "dataset_dir = r\"C:\\Users\\Anuj\\Documents\\Indian Food Images\" # Set this to your verified path\n",
    "output_dir = r\"C:\\Users\\Anuj\\Documents\\DATASET\"  # Set this to your desired output path\n",
    "\n",
    "split_dataset(dataset_dir, output_dir)\n"
   ]
  }
 ],
 "metadata": {
  "kernelspec": {
   "display_name": "Python 3 (ipykernel)",
   "language": "python",
   "name": "python3"
  },
  "language_info": {
   "codemirror_mode": {
    "name": "ipython",
    "version": 3
   },
   "file_extension": ".py",
   "mimetype": "text/x-python",
   "name": "python",
   "nbconvert_exporter": "python",
   "pygments_lexer": "ipython3",
   "version": "3.11.9"
  }
 },
 "nbformat": 4,
 "nbformat_minor": 5
}
